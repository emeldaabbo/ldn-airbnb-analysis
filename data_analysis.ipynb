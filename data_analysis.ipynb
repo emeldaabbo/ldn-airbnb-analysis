{
 "cells": [
  {
   "cell_type": "markdown",
   "metadata": {},
   "source": [
    "# How have hosts coped with the COVID-19 pandemic in London?"
   ]
  },
  {
   "cell_type": "code",
   "execution_count": 1,
   "metadata": {},
   "outputs": [],
   "source": [
    "import os\n",
    "import pandas as pd\n",
    "import numpy as np\n",
    "import re\n",
    "import matplotlib.pyplot as plt\n",
    "import seaborn as sns\n",
    "\n",
    "%matplotlib inline\n",
    "sns.set_theme()"
   ]
  },
  {
   "cell_type": "markdown",
   "metadata": {},
   "source": [
    "### Get data\n",
    "\n",
    "The listings dataset from the Inside Airbnb site will be used to analyze the impact of COVID-19 on Airbnb hosts in London. This dataset contains summary information and metrics for Airbnb listings in London.\n",
    "\n",
    "The data folder contains the listings datasets from February till August 2019 and February till August 2020 (excluding July as the website did not have data for the month of July)."
   ]
  },
  {
   "cell_type": "code",
   "execution_count": 2,
   "metadata": {},
   "outputs": [],
   "source": [
    "folder = \"data\"\n",
    "files = os.listdir(folder)\n",
    "# Create dataframe combining data from all files\n",
    "listings_df = pd.concat([pd.read_csv(os.path.join(folder, file)).assign(date=re.search(r\"\\d+\",file)[0]) for file in files], ignore_index=True)"
   ]
  },
  {
   "cell_type": "markdown",
   "metadata": {},
   "source": [
    "### Preview and Clean data"
   ]
  },
  {
   "cell_type": "code",
   "execution_count": 3,
   "metadata": {},
   "outputs": [
    {
     "data": {
      "text/plain": [
       "(991091, 17)"
      ]
     },
     "execution_count": 3,
     "metadata": {},
     "output_type": "execute_result"
    }
   ],
   "source": [
    "# This dataframe has 17 columns and 999,091 rows\n",
    "listings_df.shape"
   ]
  },
  {
   "cell_type": "code",
   "execution_count": 4,
   "metadata": {},
   "outputs": [
    {
     "data": {
      "text/html": [
       "<div>\n",
       "<style scoped>\n",
       "    .dataframe tbody tr th:only-of-type {\n",
       "        vertical-align: middle;\n",
       "    }\n",
       "\n",
       "    .dataframe tbody tr th {\n",
       "        vertical-align: top;\n",
       "    }\n",
       "\n",
       "    .dataframe thead th {\n",
       "        text-align: right;\n",
       "    }\n",
       "</style>\n",
       "<table border=\"1\" class=\"dataframe\">\n",
       "  <thead>\n",
       "    <tr style=\"text-align: right;\">\n",
       "      <th></th>\n",
       "      <th>id</th>\n",
       "      <th>name</th>\n",
       "      <th>host_id</th>\n",
       "      <th>host_name</th>\n",
       "      <th>neighbourhood_group</th>\n",
       "      <th>neighbourhood</th>\n",
       "      <th>latitude</th>\n",
       "      <th>longitude</th>\n",
       "      <th>room_type</th>\n",
       "      <th>price</th>\n",
       "      <th>minimum_nights</th>\n",
       "      <th>number_of_reviews</th>\n",
       "      <th>last_review</th>\n",
       "      <th>reviews_per_month</th>\n",
       "      <th>calculated_host_listings_count</th>\n",
       "      <th>availability_365</th>\n",
       "      <th>date</th>\n",
       "    </tr>\n",
       "  </thead>\n",
       "  <tbody>\n",
       "    <tr>\n",
       "      <th>0</th>\n",
       "      <td>13913</td>\n",
       "      <td>Holiday London DB Room Let-on going</td>\n",
       "      <td>54730</td>\n",
       "      <td>Alina</td>\n",
       "      <td>NaN</td>\n",
       "      <td>Islington</td>\n",
       "      <td>51.56802</td>\n",
       "      <td>-0.11121</td>\n",
       "      <td>Private room</td>\n",
       "      <td>65</td>\n",
       "      <td>1</td>\n",
       "      <td>21</td>\n",
       "      <td>2020-02-22</td>\n",
       "      <td>0.18</td>\n",
       "      <td>3</td>\n",
       "      <td>361</td>\n",
       "      <td>20200510</td>\n",
       "    </tr>\n",
       "    <tr>\n",
       "      <th>1</th>\n",
       "      <td>15400</td>\n",
       "      <td>Bright Chelsea  Apartment. Chelsea!</td>\n",
       "      <td>60302</td>\n",
       "      <td>Philippa</td>\n",
       "      <td>NaN</td>\n",
       "      <td>Kensington and Chelsea</td>\n",
       "      <td>51.48796</td>\n",
       "      <td>-0.16898</td>\n",
       "      <td>Entire home/apt</td>\n",
       "      <td>100</td>\n",
       "      <td>10</td>\n",
       "      <td>89</td>\n",
       "      <td>2020-03-16</td>\n",
       "      <td>0.70</td>\n",
       "      <td>1</td>\n",
       "      <td>256</td>\n",
       "      <td>20200510</td>\n",
       "    </tr>\n",
       "  </tbody>\n",
       "</table>\n",
       "</div>"
      ],
      "text/plain": [
       "      id                                 name  host_id host_name  \\\n",
       "0  13913  Holiday London DB Room Let-on going    54730     Alina   \n",
       "1  15400  Bright Chelsea  Apartment. Chelsea!    60302  Philippa   \n",
       "\n",
       "   neighbourhood_group           neighbourhood  latitude  longitude  \\\n",
       "0                  NaN               Islington  51.56802   -0.11121   \n",
       "1                  NaN  Kensington and Chelsea  51.48796   -0.16898   \n",
       "\n",
       "         room_type  price  minimum_nights  number_of_reviews last_review  \\\n",
       "0     Private room     65               1                 21  2020-02-22   \n",
       "1  Entire home/apt    100              10                 89  2020-03-16   \n",
       "\n",
       "   reviews_per_month  calculated_host_listings_count  availability_365  \\\n",
       "0               0.18                               3               361   \n",
       "1               0.70                               1               256   \n",
       "\n",
       "       date  \n",
       "0  20200510  \n",
       "1  20200510  "
      ]
     },
     "execution_count": 4,
     "metadata": {},
     "output_type": "execute_result"
    }
   ],
   "source": [
    "listings_df.head(2)"
   ]
  },
  {
   "cell_type": "code",
   "execution_count": 5,
   "metadata": {},
   "outputs": [],
   "source": [
    "# Drop neighbourhood_group column as it does not contain any information\n",
    "listings_df.drop(columns=\"neighbourhood_group\", inplace=True)"
   ]
  },
  {
   "cell_type": "code",
   "execution_count": 6,
   "metadata": {},
   "outputs": [
    {
     "data": {
      "text/plain": [
       "['name', 'host_name', 'last_review', 'reviews_per_month']"
      ]
     },
     "execution_count": 6,
     "metadata": {},
     "output_type": "execute_result"
    }
   ],
   "source": [
    "# 4 columns have missing datapoints: name, host_name, last_review and reviews_per_month\n",
    "# However, these columns will not be used in this analysis\n",
    "list(listings_df.columns[listings_df.isnull().sum() > 0])"
   ]
  },
  {
   "cell_type": "code",
   "execution_count": 7,
   "metadata": {},
   "outputs": [],
   "source": [
    "# Update type of date column\n",
    "listings_df[\"date\"] = pd.to_datetime(listings_df[\"date\"])"
   ]
  },
  {
   "cell_type": "markdown",
   "metadata": {},
   "source": [
    "## To better undertand how the COVID-19 pandemic impacted Airbnb hosts in London, we will explore the below four questions:\n",
    "1. Did the number of listings on Airbnb decrease since the start of the pandemic?\n",
    "2. Did the pandemic impact hosts across London equally?\n",
    "3. Were there any changes in the types of accommodations listed on the platform?\n",
    "4. Did hosts try to lower the prices of their listings to encourage renters to book?"
   ]
  },
  {
   "cell_type": "markdown",
   "metadata": {},
   "source": [
    "### 1. Did the number of listings on Airbnb decrease since the start of the pandemic?"
   ]
  },
  {
   "cell_type": "markdown",
   "metadata": {},
   "source": [
    "#### Data preparation"
   ]
  },
  {
   "cell_type": "code",
   "execution_count": 8,
   "metadata": {},
   "outputs": [],
   "source": [
    "# Add month and year columns to listings_df to compare the listings per year \n",
    "listings_df[\"month\"] = listings_df[\"date\"].dt.month\n",
    "listings_df[\"year\"] = listings_df[\"date\"].dt.year"
   ]
  },
  {
   "cell_type": "code",
   "execution_count": 9,
   "metadata": {},
   "outputs": [
    {
     "data": {
      "image/png": "[encoded data removed]",
      "text/plain": [
       "<Figure size 432x288 with 1 Axes>"
      ]
     },
     "metadata": {},
     "output_type": "display_data"
    }
   ],
   "source": [
    "# Plot number of listings per month in 2019 and 2020\n",
    "months = [\"February\", \"March\", \"April\", \"May\", \"June\", \"August\"]\n",
    "plot = sns.countplot(x=\"month\", hue=\"year\", data=listings_df, order=sorted(listings_df[\"month\"].unique()), hue_order=[2019,2020]);\n",
    "# Style plot\n",
    "plot.set(ylim=(40000, 90000), ylabel=\"Number of Listings\", xlabel=None, xticklabels=months)\n",
    "plt.legend(bbox_to_anchor=(1.05, 1), loc=2, borderaxespad=0);\n",
    "plt.title(label=\"Number of Listings per Month\", fontsize=16);\n",
    "plot.get_yaxis().set_major_formatter(plt.FuncFormatter(lambda x, loc: \"{:,}\".format(int(x))));\n"
   ]
  },
  {
   "cell_type": "markdown",
   "metadata": {},
   "source": [
    "#### Data Evaluation\n",
    "Although the above barchart shows that there were more Airbnb listings over the Feb-June period in 2020 than in 2019,  we can see a clear downward trend in the number of listings since February compared to an upward trend over the same period last year. August is the month with the lowest listings in 2020. "
   ]
  },
  {
   "cell_type": "code",
   "execution_count": 10,
   "metadata": {
    "scrolled": false
   },
   "outputs": [
    {
     "data": {
      "image/png": "[encoded data removed]",
      "text/plain": [
       "<Figure size 360x360 with 1 Axes>"
      ]
     },
     "metadata": {},
     "output_type": "display_data"
    }
   ],
   "source": [
    "# Plot trendlines for 2019 and 2020 to confirm the above observations (modelling)\n",
    "listings_count_df = listings_df.groupby([\"year\",\"month\"]).count()[\"id\"].reset_index()\n",
    "listings_count_df[\"id\"] = listings_count_df[\"id\"].apply(lambda x: round(x/1000))\n",
    "graph = sns.lmplot(x=\"month\", y=\"id\", hue=\"year\", data=listings_count_df, legend=False);\n",
    "# Style graph\n",
    "graph.set(ylabel=\"Number of Listings (1000s)\", xlabel=None);\n",
    "plt.xticks([2,3,4,5,6,8], months);\n",
    "plt.legend(bbox_to_anchor=(1.05, 1), loc=2, borderaxespad=0);\n",
    "plt.title(label=\"Trendlines\", fontsize=16);\n",
    "plt.grid(False)"
   ]
  },
  {
   "cell_type": "markdown",
   "metadata": {},
   "source": [
    "The above plot shows that the number of listings on Airbnb has been decreasing since February 2020. In 2019, during the same period, the number of listings was increasing. \n",
    "\n",
    "The data confirms that some hosts did indeed move away from Airbnb. Many articles suggest that hosts are flipping their houses back into the long-term market instead. "
   ]
  },
  {
   "cell_type": "markdown",
   "metadata": {},
   "source": [
    "### 2. Did the pandemic impact hosts across London equally?\n",
    "To answer this question, we will focus on the month of August as it had the largest year-to-year change."
   ]
  },
  {
   "cell_type": "markdown",
   "metadata": {},
   "source": [
    "#### Data preparation"
   ]
  },
  {
   "cell_type": "code",
   "execution_count": 11,
   "metadata": {},
   "outputs": [],
   "source": [
    "# Get number of listings per borough in August 2019 and 2020\n",
    "listings_per_borough = listings_df[listings_df.month == 8].groupby([\"year\",\"neighbourhood\"]).count()[\"id\"].unstack(level=0).reset_index()"
   ]
  },
  {
   "cell_type": "code",
   "execution_count": 12,
   "metadata": {},
   "outputs": [],
   "source": [
    "# Boroughs in london are split into two groups: Inner London boroughs and Outer London Boroughs\n",
    "inner_boroughs = [\"Camden\", \"Greenwich\", \"Hackney\", \"Hammersmith and Fulham\", \"Islington\", \"Royal Borough of Kensington and Chelsea\", \"Lambeth\", \"Lewisham\", \"Southwark\", \"Tower Hamlets\", \"Wandsworth\", \"Westminster\"]\n",
    "listings_per_borough[\"Inner Borough\"] = np.where(listings_per_borough[\"neighbourhood\"].isin(inner_boroughs), True, False)"
   ]
  },
  {
   "cell_type": "code",
   "execution_count": 13,
   "metadata": {},
   "outputs": [
    {
     "data": {
      "text/html": [
       "<div>\n",
       "<style scoped>\n",
       "    .dataframe tbody tr th:only-of-type {\n",
       "        vertical-align: middle;\n",
       "    }\n",
       "\n",
       "    .dataframe tbody tr th {\n",
       "        vertical-align: top;\n",
       "    }\n",
       "\n",
       "    .dataframe thead th {\n",
       "        text-align: right;\n",
       "    }\n",
       "</style>\n",
       "<table border=\"1\" class=\"dataframe\">\n",
       "  <thead>\n",
       "    <tr style=\"text-align: right;\">\n",
       "      <th></th>\n",
       "      <th>London Region</th>\n",
       "      <th>Change</th>\n",
       "    </tr>\n",
       "  </thead>\n",
       "  <tbody>\n",
       "    <tr>\n",
       "      <th>0</th>\n",
       "      <td>Outer Boroughs</td>\n",
       "      <td>-0.093148</td>\n",
       "    </tr>\n",
       "    <tr>\n",
       "      <th>1</th>\n",
       "      <td>Inner Boroughs</td>\n",
       "      <td>-0.157197</td>\n",
       "    </tr>\n",
       "  </tbody>\n",
       "</table>\n",
       "</div>"
      ],
      "text/plain": [
       "    London Region    Change\n",
       "0  Outer Boroughs -0.093148\n",
       "1  Inner Boroughs -0.157197"
      ]
     },
     "execution_count": 13,
     "metadata": {},
     "output_type": "execute_result"
    }
   ],
   "source": [
    "# Group listings per London Region (Inner/Outer)\n",
    "grouped_listings = listings_per_borough.groupby([\"Inner Borough\"]).sum()\n",
    "pct_change = grouped_listings.pct_change(axis='columns')[2020]\n",
    "pct_change_df = pct_change.to_frame().reset_index()\n",
    "pct_change_df.replace({True: \"Inner Boroughs\", False: \"Outer Boroughs\"}, inplace=True)\n",
    "pct_change_df.columns = [\"London Region\", \"Change\"]\n",
    "pct_change_df"
   ]
  },
  {
   "cell_type": "code",
   "execution_count": 14,
   "metadata": {},
   "outputs": [
    {
     "data": {
      "text/html": [
       "<style  type=\"text/css\" >\n",
       "#T_cf62c846_0694_11eb_be54_acde48001122row0_col0,#T_cf62c846_0694_11eb_be54_acde48001122row0_col1,#T_cf62c846_0694_11eb_be54_acde48001122row1_col0,#T_cf62c846_0694_11eb_be54_acde48001122row1_col1{\n",
       "            text-align:  right;\n",
       "        }</style><table id=\"T_cf62c846_0694_11eb_be54_acde48001122\" ><thead>    <tr>        <th class=\"col_heading level0 col0\" >London Region</th>        <th class=\"col_heading level0 col1\" >Change</th>    </tr></thead><tbody>\n",
       "                <tr>\n",
       "                                <td id=\"T_cf62c846_0694_11eb_be54_acde48001122row0_col0\" class=\"data row0 col0\" >Outer Boroughs</td>\n",
       "                        <td id=\"T_cf62c846_0694_11eb_be54_acde48001122row0_col1\" class=\"data row0 col1\" >-9.31%</td>\n",
       "            </tr>\n",
       "            <tr>\n",
       "                                <td id=\"T_cf62c846_0694_11eb_be54_acde48001122row1_col0\" class=\"data row1 col0\" >Inner Boroughs</td>\n",
       "                        <td id=\"T_cf62c846_0694_11eb_be54_acde48001122row1_col1\" class=\"data row1 col1\" >-15.72%</td>\n",
       "            </tr>\n",
       "    </tbody></table>"
      ],
      "text/plain": [
       "<pandas.io.formats.style.Styler at 0x12514a6d0>"
      ]
     },
     "execution_count": 14,
     "metadata": {},
     "output_type": "execute_result"
    }
   ],
   "source": [
    "# Style df\n",
    "pct_change_df.style.format({\"Change\": \"{:.2%}\"}).hide_index().set_properties(**{'text-align': 'right'})"
   ]
  },
  {
   "cell_type": "markdown",
   "metadata": {},
   "source": [
    "#### Data Evaluation\n",
    "The above table shows that the listings in Inner London decreased by almost 16% between August 2019 and 2020, almost twice as much as listings in Outer London. It seems like hosts in central London were impacted more than hosts in outer London."
   ]
  },
  {
   "cell_type": "markdown",
   "metadata": {},
   "source": [
    "### 3. Were there any changes in the types of accommodations listed on the platform?"
   ]
  },
  {
   "cell_type": "markdown",
   "metadata": {},
   "source": [
    "#### Data preparation"
   ]
  },
  {
   "cell_type": "code",
   "execution_count": 15,
   "metadata": {
    "scrolled": true
   },
   "outputs": [
    {
     "data": {
      "text/html": [
       "<div>\n",
       "<style scoped>\n",
       "    .dataframe tbody tr th:only-of-type {\n",
       "        vertical-align: middle;\n",
       "    }\n",
       "\n",
       "    .dataframe tbody tr th {\n",
       "        vertical-align: top;\n",
       "    }\n",
       "\n",
       "    .dataframe thead th {\n",
       "        text-align: right;\n",
       "    }\n",
       "</style>\n",
       "<table border=\"1\" class=\"dataframe\">\n",
       "  <thead>\n",
       "    <tr style=\"text-align: right;\">\n",
       "      <th></th>\n",
       "      <th>Room Type</th>\n",
       "      <th>2019</th>\n",
       "      <th>2020</th>\n",
       "      <th>Change</th>\n",
       "    </tr>\n",
       "  </thead>\n",
       "  <tbody>\n",
       "    <tr>\n",
       "      <th>0</th>\n",
       "      <td>Entire home/apt</td>\n",
       "      <td>271327</td>\n",
       "      <td>282434</td>\n",
       "      <td>0.040936</td>\n",
       "    </tr>\n",
       "    <tr>\n",
       "      <th>1</th>\n",
       "      <td>Hotel room</td>\n",
       "      <td>8</td>\n",
       "      <td>4413</td>\n",
       "      <td>550.625000</td>\n",
       "    </tr>\n",
       "    <tr>\n",
       "      <th>2</th>\n",
       "      <td>Private room</td>\n",
       "      <td>210192</td>\n",
       "      <td>214361</td>\n",
       "      <td>0.019834</td>\n",
       "    </tr>\n",
       "    <tr>\n",
       "      <th>3</th>\n",
       "      <td>Shared room</td>\n",
       "      <td>4402</td>\n",
       "      <td>3954</td>\n",
       "      <td>-0.101772</td>\n",
       "    </tr>\n",
       "  </tbody>\n",
       "</table>\n",
       "</div>"
      ],
      "text/plain": [
       "         Room Type    2019    2020      Change\n",
       "0  Entire home/apt  271327  282434    0.040936\n",
       "1       Hotel room       8    4413  550.625000\n",
       "2     Private room  210192  214361    0.019834\n",
       "3      Shared room    4402    3954   -0.101772"
      ]
     },
     "execution_count": 15,
     "metadata": {},
     "output_type": "execute_result"
    }
   ],
   "source": [
    "# Compare number of listings per room type in 2019 and 2020 \n",
    "listings_df_per_room_type = listings_df.groupby([\"year\",\"room_type\"]).count()[\"id\"]\n",
    "df_per_room_type = listings_df_per_room_type.unstack(level=0)\n",
    "df_per_room_type['percentage_change'] = ((df_per_room_type[2020] - df_per_room_type[2019])/df_per_room_type[2019])\n",
    "df_per_room_type.columns.name = None\n",
    "df_per_room_type = df_per_room_type.reset_index()\n",
    "df_per_room_type.columns = [\"Room Type\", \"2019\", \"2020\", \"Change\"]\n",
    "df_per_room_type"
   ]
  },
  {
   "cell_type": "code",
   "execution_count": 16,
   "metadata": {},
   "outputs": [],
   "source": [
    "def color_values_per_sign(value):\n",
    "    \"\"\"Color elements in dateframe green if positive and red if negative.\"\"\"\n",
    "    color = \"red\" if value < 0 else \"green\"\n",
    "    return 'color: %s' % color"
   ]
  },
  {
   "cell_type": "code",
   "execution_count": 17,
   "metadata": {
    "scrolled": false
   },
   "outputs": [
    {
     "data": {
      "text/html": [
       "<style  type=\"text/css\" >\n",
       "#T_d2d3bfda_0694_11eb_be54_acde48001122row0_col0,#T_d2d3bfda_0694_11eb_be54_acde48001122row0_col1,#T_d2d3bfda_0694_11eb_be54_acde48001122row0_col2,#T_d2d3bfda_0694_11eb_be54_acde48001122row1_col0,#T_d2d3bfda_0694_11eb_be54_acde48001122row1_col1,#T_d2d3bfda_0694_11eb_be54_acde48001122row1_col2,#T_d2d3bfda_0694_11eb_be54_acde48001122row2_col0,#T_d2d3bfda_0694_11eb_be54_acde48001122row2_col1,#T_d2d3bfda_0694_11eb_be54_acde48001122row2_col2,#T_d2d3bfda_0694_11eb_be54_acde48001122row3_col0,#T_d2d3bfda_0694_11eb_be54_acde48001122row3_col1,#T_d2d3bfda_0694_11eb_be54_acde48001122row3_col2{\n",
       "            text-align:  middle;\n",
       "        }#T_d2d3bfda_0694_11eb_be54_acde48001122row0_col3,#T_d2d3bfda_0694_11eb_be54_acde48001122row1_col3,#T_d2d3bfda_0694_11eb_be54_acde48001122row2_col3{\n",
       "            color:  green;\n",
       "            text-align:  middle;\n",
       "        }#T_d2d3bfda_0694_11eb_be54_acde48001122row3_col3{\n",
       "            color:  red;\n",
       "            text-align:  middle;\n",
       "        }</style><table id=\"T_d2d3bfda_0694_11eb_be54_acde48001122\" ><thead>    <tr>        <th class=\"col_heading level0 col0\" >Room Type</th>        <th class=\"col_heading level0 col1\" >2019</th>        <th class=\"col_heading level0 col2\" >2020</th>        <th class=\"col_heading level0 col3\" >Change</th>    </tr></thead><tbody>\n",
       "                <tr>\n",
       "                                <td id=\"T_d2d3bfda_0694_11eb_be54_acde48001122row0_col0\" class=\"data row0 col0\" >Entire home/apt</td>\n",
       "                        <td id=\"T_d2d3bfda_0694_11eb_be54_acde48001122row0_col1\" class=\"data row0 col1\" >271,327</td>\n",
       "                        <td id=\"T_d2d3bfda_0694_11eb_be54_acde48001122row0_col2\" class=\"data row0 col2\" >282,434</td>\n",
       "                        <td id=\"T_d2d3bfda_0694_11eb_be54_acde48001122row0_col3\" class=\"data row0 col3\" >4%</td>\n",
       "            </tr>\n",
       "            <tr>\n",
       "                                <td id=\"T_d2d3bfda_0694_11eb_be54_acde48001122row1_col0\" class=\"data row1 col0\" >Hotel room</td>\n",
       "                        <td id=\"T_d2d3bfda_0694_11eb_be54_acde48001122row1_col1\" class=\"data row1 col1\" >8</td>\n",
       "                        <td id=\"T_d2d3bfda_0694_11eb_be54_acde48001122row1_col2\" class=\"data row1 col2\" >4,413</td>\n",
       "                        <td id=\"T_d2d3bfda_0694_11eb_be54_acde48001122row1_col3\" class=\"data row1 col3\" >55,062%</td>\n",
       "            </tr>\n",
       "            <tr>\n",
       "                                <td id=\"T_d2d3bfda_0694_11eb_be54_acde48001122row2_col0\" class=\"data row2 col0\" >Private room</td>\n",
       "                        <td id=\"T_d2d3bfda_0694_11eb_be54_acde48001122row2_col1\" class=\"data row2 col1\" >210,192</td>\n",
       "                        <td id=\"T_d2d3bfda_0694_11eb_be54_acde48001122row2_col2\" class=\"data row2 col2\" >214,361</td>\n",
       "                        <td id=\"T_d2d3bfda_0694_11eb_be54_acde48001122row2_col3\" class=\"data row2 col3\" >2%</td>\n",
       "            </tr>\n",
       "            <tr>\n",
       "                                <td id=\"T_d2d3bfda_0694_11eb_be54_acde48001122row3_col0\" class=\"data row3 col0\" >Shared room</td>\n",
       "                        <td id=\"T_d2d3bfda_0694_11eb_be54_acde48001122row3_col1\" class=\"data row3 col1\" >4,402</td>\n",
       "                        <td id=\"T_d2d3bfda_0694_11eb_be54_acde48001122row3_col2\" class=\"data row3 col2\" >3,954</td>\n",
       "                        <td id=\"T_d2d3bfda_0694_11eb_be54_acde48001122row3_col3\" class=\"data row3 col3\" >-10%</td>\n",
       "            </tr>\n",
       "    </tbody></table>"
      ],
      "text/plain": [
       "<pandas.io.formats.style.Styler at 0x126066a90>"
      ]
     },
     "execution_count": 17,
     "metadata": {},
     "output_type": "execute_result"
    }
   ],
   "source": [
    "# Style df\n",
    "df_per_room_type.style.applymap(color_values_per_sign, subset=['Change']).format({\"Change\": \"{:,.0%}\", \"2019\": \"{:,}\", \"2020\": \"{:,}\"}).hide_index().set_properties(**{'text-align': 'middle'})"
   ]
  },
  {
   "cell_type": "markdown",
   "metadata": {},
   "source": [
    "#### Data Evaluation\n",
    "There was no significant change in the number of entire homes/apts nor private rooms between 2019 and 2020. However, the number of hotel rooms on the platform increased significantly. This is quite interesting as most hoteliers saw Airbnb as a threat since it was founded. Also the number of shared rooms decreased by 10%, which is understandable as less people are willing to share rooms with the covid-19 pandemic."
   ]
  },
  {
   "cell_type": "code",
   "execution_count": 18,
   "metadata": {},
   "outputs": [
    {
     "data": {
      "text/html": [
       "<div>\n",
       "<style scoped>\n",
       "    .dataframe tbody tr th:only-of-type {\n",
       "        vertical-align: middle;\n",
       "    }\n",
       "\n",
       "    .dataframe tbody tr th {\n",
       "        vertical-align: top;\n",
       "    }\n",
       "\n",
       "    .dataframe thead th {\n",
       "        text-align: right;\n",
       "    }\n",
       "</style>\n",
       "<table border=\"1\" class=\"dataframe\">\n",
       "  <thead>\n",
       "    <tr style=\"text-align: right;\">\n",
       "      <th></th>\n",
       "      <th>year</th>\n",
       "      <th>room_type</th>\n",
       "      <th>id</th>\n",
       "    </tr>\n",
       "  </thead>\n",
       "  <tbody>\n",
       "    <tr>\n",
       "      <th>1</th>\n",
       "      <td>2019</td>\n",
       "      <td>Hotel room</td>\n",
       "      <td>8</td>\n",
       "    </tr>\n",
       "    <tr>\n",
       "      <th>3</th>\n",
       "      <td>2019</td>\n",
       "      <td>Shared room</td>\n",
       "      <td>4402</td>\n",
       "    </tr>\n",
       "    <tr>\n",
       "      <th>5</th>\n",
       "      <td>2020</td>\n",
       "      <td>Hotel room</td>\n",
       "      <td>4413</td>\n",
       "    </tr>\n",
       "    <tr>\n",
       "      <th>7</th>\n",
       "      <td>2020</td>\n",
       "      <td>Shared room</td>\n",
       "      <td>3954</td>\n",
       "    </tr>\n",
       "  </tbody>\n",
       "</table>\n",
       "</div>"
      ],
      "text/plain": [
       "   year    room_type    id\n",
       "1  2019   Hotel room     8\n",
       "3  2019  Shared room  4402\n",
       "5  2020   Hotel room  4413\n",
       "7  2020  Shared room  3954"
      ]
     },
     "execution_count": 18,
     "metadata": {},
     "output_type": "execute_result"
    }
   ],
   "source": [
    "# Filter dataframe to keep Hotel and Shared rooms\n",
    "filtered_df_per_room_type = listings_df_per_room_type.reset_index()\n",
    "filtered_df_per_room_type = filtered_df_per_room_type[filtered_df_per_room_type.room_type.isin(['Hotel room', 'Shared room'])]\n",
    "filtered_df_per_room_type"
   ]
  },
  {
   "cell_type": "code",
   "execution_count": 19,
   "metadata": {
    "scrolled": true
   },
   "outputs": [
    {
     "data": {
      "image/png": "[encoded data removed]",
      "text/plain": [
       "<Figure size 432x288 with 1 Axes>"
      ]
     },
     "metadata": {},
     "output_type": "display_data"
    }
   ],
   "source": [
    "# Plot df to better visualize the above observations\n",
    "sns.barplot(x=\"room_type\", y=\"id\", data=filtered_df_per_room_type, hue=\"year\");"
   ]
  },
  {
   "cell_type": "markdown",
   "metadata": {},
   "source": [
    "### 4. Did hosts try to lower the prices of their listings to encourage renters to book?"
   ]
  },
  {
   "cell_type": "markdown",
   "metadata": {},
   "source": [
    "#### Data preparation"
   ]
  },
  {
   "cell_type": "code",
   "execution_count": 20,
   "metadata": {},
   "outputs": [
    {
     "data": {
      "text/plain": [
       "(451548, 18)"
      ]
     },
     "execution_count": 20,
     "metadata": {},
     "output_type": "execute_result"
    }
   ],
   "source": [
    "# Filter dataframe to keep only accomodations that were listed in both Feb-Aug 2019 and Feb-Aug 2020 (excl. July)\n",
    "# This subset was chosen to compare the price changes of the same properties across these two periods\n",
    "ids = set(listings_df[\"id\"].value_counts()[listings_df[\"id\"].value_counts() == 12].index)\n",
    "subset_df = listings_df[listings_df[\"id\"].isin(ids)]\n",
    "subset_df.shape"
   ]
  },
  {
   "cell_type": "code",
   "execution_count": 21,
   "metadata": {},
   "outputs": [
    {
     "data": {
      "text/plain": [
       "37629"
      ]
     },
     "execution_count": 21,
     "metadata": {},
     "output_type": "execute_result"
    }
   ],
   "source": [
    "# There are 37,629 accomodations that were listed in both periods of interest\n",
    "len(ids)"
   ]
  },
  {
   "cell_type": "code",
   "execution_count": 22,
   "metadata": {},
   "outputs": [],
   "source": [
    "# Get average price per month\n",
    "pricing_df = subset_df.groupby([\"year\",\"month\"]).mean()[\"price\"]"
   ]
  },
  {
   "cell_type": "code",
   "execution_count": 23,
   "metadata": {},
   "outputs": [
    {
     "data": {
      "text/html": [
       "<style  type=\"text/css\" >\n",
       "#T_d815cde4_0694_11eb_be54_acde48001122row0_col2{\n",
       "            width:  10em;\n",
       "             height:  80%;\n",
       "            background:  linear-gradient(90deg,#5fba7d 94.4%, transparent 94.4%);\n",
       "        }#T_d815cde4_0694_11eb_be54_acde48001122row1_col2{\n",
       "            width:  10em;\n",
       "             height:  80%;\n",
       "            background:  linear-gradient(90deg,#5fba7d 100.0%, transparent 100.0%);\n",
       "        }#T_d815cde4_0694_11eb_be54_acde48001122row2_col2{\n",
       "            width:  10em;\n",
       "             height:  80%;\n",
       "            background:  linear-gradient(90deg,#5fba7d 92.6%, transparent 92.6%);\n",
       "        }#T_d815cde4_0694_11eb_be54_acde48001122row3_col2{\n",
       "            width:  10em;\n",
       "             height:  80%;\n",
       "            background:  linear-gradient(90deg,#5fba7d 89.4%, transparent 89.4%);\n",
       "        }#T_d815cde4_0694_11eb_be54_acde48001122row4_col2{\n",
       "            width:  10em;\n",
       "             height:  80%;\n",
       "            background:  linear-gradient(90deg,#5fba7d 72.6%, transparent 72.6%);\n",
       "        }#T_d815cde4_0694_11eb_be54_acde48001122row5_col2{\n",
       "            width:  10em;\n",
       "             height:  80%;\n",
       "            background:  linear-gradient(90deg,#5fba7d 95.4%, transparent 95.4%);\n",
       "        }</style><table id=\"T_d815cde4_0694_11eb_be54_acde48001122\" ><thead>    <tr>        <th class=\"index_name level0\" >year</th>        <th class=\"col_heading level0 col0\" >2019</th>        <th class=\"col_heading level0 col1\" >2020</th>        <th class=\"col_heading level0 col2\" >percentage_change</th>    </tr>    <tr>        <th class=\"index_name level0\" >month</th>        <th class=\"blank\" ></th>        <th class=\"blank\" ></th>        <th class=\"blank\" ></th>    </tr></thead><tbody>\n",
       "                <tr>\n",
       "                        <th id=\"T_d815cde4_0694_11eb_be54_acde48001122level0_row0\" class=\"row_heading level0 row0\" >2</th>\n",
       "                        <td id=\"T_d815cde4_0694_11eb_be54_acde48001122row0_col0\" class=\"data row0 col0\" >104.263095</td>\n",
       "                        <td id=\"T_d815cde4_0694_11eb_be54_acde48001122row0_col1\" class=\"data row0 col1\" >108.423902</td>\n",
       "                        <td id=\"T_d815cde4_0694_11eb_be54_acde48001122row0_col2\" class=\"data row0 col2\" >3.990680</td>\n",
       "            </tr>\n",
       "            <tr>\n",
       "                        <th id=\"T_d815cde4_0694_11eb_be54_acde48001122level0_row1\" class=\"row_heading level0 row1\" >3</th>\n",
       "                        <td id=\"T_d815cde4_0694_11eb_be54_acde48001122row1_col0\" class=\"data row1 col0\" >103.885354</td>\n",
       "                        <td id=\"T_d815cde4_0694_11eb_be54_acde48001122row1_col1\" class=\"data row1 col1\" >108.279146</td>\n",
       "                        <td id=\"T_d815cde4_0694_11eb_be54_acde48001122row1_col2\" class=\"data row1 col2\" >4.229462</td>\n",
       "            </tr>\n",
       "            <tr>\n",
       "                        <th id=\"T_d815cde4_0694_11eb_be54_acde48001122level0_row2\" class=\"row_heading level0 row2\" >4</th>\n",
       "                        <td id=\"T_d815cde4_0694_11eb_be54_acde48001122row2_col0\" class=\"data row2 col0\" >103.939329</td>\n",
       "                        <td id=\"T_d815cde4_0694_11eb_be54_acde48001122row2_col1\" class=\"data row2 col1\" >108.011348</td>\n",
       "                        <td id=\"T_d815cde4_0694_11eb_be54_acde48001122row2_col2\" class=\"data row2 col2\" >3.917688</td>\n",
       "            </tr>\n",
       "            <tr>\n",
       "                        <th id=\"T_d815cde4_0694_11eb_be54_acde48001122level0_row3\" class=\"row_heading level0 row3\" >5</th>\n",
       "                        <td id=\"T_d815cde4_0694_11eb_be54_acde48001122row3_col0\" class=\"data row3 col0\" >104.115337</td>\n",
       "                        <td id=\"T_d815cde4_0694_11eb_be54_acde48001122row3_col1\" class=\"data row3 col1\" >108.052114</td>\n",
       "                        <td id=\"T_d815cde4_0694_11eb_be54_acde48001122row3_col2\" class=\"data row3 col2\" >3.781170</td>\n",
       "            </tr>\n",
       "            <tr>\n",
       "                        <th id=\"T_d815cde4_0694_11eb_be54_acde48001122level0_row4\" class=\"row_heading level0 row4\" >6</th>\n",
       "                        <td id=\"T_d815cde4_0694_11eb_be54_acde48001122row4_col0\" class=\"data row4 col0\" >104.682665</td>\n",
       "                        <td id=\"T_d815cde4_0694_11eb_be54_acde48001122row4_col1\" class=\"data row4 col1\" >107.895612</td>\n",
       "                        <td id=\"T_d815cde4_0694_11eb_be54_acde48001122row4_col2\" class=\"data row4 col2\" >3.069226</td>\n",
       "            </tr>\n",
       "            <tr>\n",
       "                        <th id=\"T_d815cde4_0694_11eb_be54_acde48001122level0_row5\" class=\"row_heading level0 row5\" >8</th>\n",
       "                        <td id=\"T_d815cde4_0694_11eb_be54_acde48001122row5_col0\" class=\"data row5 col0\" >105.112307</td>\n",
       "                        <td id=\"T_d815cde4_0694_11eb_be54_acde48001122row5_col1\" class=\"data row5 col1\" >109.351856</td>\n",
       "                        <td id=\"T_d815cde4_0694_11eb_be54_acde48001122row5_col2\" class=\"data row5 col2\" >4.033352</td>\n",
       "            </tr>\n",
       "    </tbody></table>"
      ],
      "text/plain": [
       "<pandas.io.formats.style.Styler at 0x1260ee8e0>"
      ]
     },
     "execution_count": 23,
     "metadata": {},
     "output_type": "execute_result"
    }
   ],
   "source": [
    "# Compare monthly average prices per night between 2019 and 2020\n",
    "unstacked_pricing_df = pricing_df.unstack(level=0)\n",
    "unstacked_pricing_df['percentage_change'] = ((unstacked_pricing_df[2020] - unstacked_pricing_df[2019])/unstacked_pricing_df[2019])*100\n",
    "# Style df\n",
    "unstacked_pricing_df.style.bar(subset=['percentage_change'], align='mid', color=['#d65f5f', '#5fba7d'])"
   ]
  },
  {
   "cell_type": "markdown",
   "metadata": {},
   "source": [
    "#### Data Evaluation\n",
    "The average monthly prices were at least 3% higher in 2020 than in 2019 over the Feb-August period (excl. July)."
   ]
  },
  {
   "cell_type": "code",
   "execution_count": 24,
   "metadata": {},
   "outputs": [
    {
     "data": {
      "image/png": "[encoded data removed]",
      "text/plain": [
       "<Figure size 432x288 with 1 Axes>"
      ]
     },
     "metadata": {},
     "output_type": "display_data"
    }
   ],
   "source": [
    "# Plot nighlty average prices per month\n",
    "lineplot = sns.lineplot(data=pricing_df.reset_index(), x=\"month\", y=\"price\", hue=\"year\", linewidth=3,palette=[\"#377eb8\",\"#d95f02\"]);\n",
    "# Style plot\n",
    "lineplot.set(ylabel=\"Price\", xlabel=None);\n",
    "plt.grid(False)\n",
    "plt.xticks([2,3,4,5,6,8], months);\n",
    "plt.title(label=\"Average Price per Month\", fontsize=16);"
   ]
  },
  {
   "cell_type": "markdown",
   "metadata": {},
   "source": [
    "Although there was a slight negative trend from February till June 2020, it does not seem like there was a substantial impact on the prices of listings since the pandemic started."
   ]
  }
 ],
 "metadata": {
  "kernelspec": {
   "display_name": "Python 3",
   "language": "python",
   "name": "python3"
  },
  "language_info": {
   "codemirror_mode": {
    "name": "ipython",
    "version": 3
   },
   "file_extension": ".py",
   "mimetype": "text/x-python",
   "name": "python",
   "nbconvert_exporter": "python",
   "pygments_lexer": "ipython3",
   "version": "3.8.5"
  }
 },
 "nbformat": 4,
 "nbformat_minor": 4
}
